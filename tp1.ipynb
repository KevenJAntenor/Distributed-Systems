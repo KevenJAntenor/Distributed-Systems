{
  "cells": [
    {
      "cell_type": "markdown",
      "metadata": {
        "id": "CeuqHp-YlksG"
      },
      "source": [
        "# TP1"
      ]
    },
    {
      "cell_type": "markdown",
      "metadata": {
        "id": "Wv5YtDv7lf_e"
      },
      "source": []
    },
    {
      "cell_type": "code",
      "execution_count": 16,
      "metadata": {
        "id": "JRnY16JIlehP"
      },
      "outputs": [
        {
          "name": "stdout",
          "output_type": "stream",
          "text": [
            "              counts_profileVisits  counts_kisses                 pictureId  \\\n",
            "name                                                                          \n",
            "daeni                       8279.0          239.0  55303fc3160ba0eb728b4575   \n",
            "italiana 92                  663.0           13.0  552e7b61c66da10d1e8b4c82   \n",
            "Lauraaa                     1369.0           88.0  54a584ecc56da128638b4674   \n",
            "Qqkwmdowlo                 22187.0         1015.0  54c92738076ea1b5338b4735   \n",
            "schaessie {3               35262.0         1413.0  54e1a6f6c76da135748b4a3a   \n",
            "\n",
            "              taux_aime        aime_5_pct       10_visites compte_populaire  \\\n",
            "name                                                                          \n",
            "daeni              2.89  moins_5_pct_aime  plus_10_visites    non_populaire   \n",
            "italiana 92        1.96  moins_5_pct_aime  plus_10_visites    non_populaire   \n",
            "Lauraaa            6.43   plus_5_pct_aime  plus_10_visites        populaire   \n",
            "Qqkwmdowlo         4.57  moins_5_pct_aime  plus_10_visites    non_populaire   \n",
            "schaessie {3       4.01  moins_5_pct_aime  plus_10_visites    non_populaire   \n",
            "\n",
            "              norm_visites  norm_kisses  \n",
            "name                                     \n",
            "daeni                0.050        0.026  \n",
            "italiana 92          0.004        0.001  \n",
            "Lauraaa              0.008        0.009  \n",
            "Qqkwmdowlo           0.135        0.109  \n",
            "schaessie {3         0.214        0.152  \n",
            "\n",
            "\n",
            "Nombre de valeurs \"populaire\": 1030\n",
            "Nombre de \"plus_10_visites\": 3830\n",
            "Nombre de \"plus_5_pct_aime\": 1043\n"
          ]
        }
      ],
      "source": [
        "import pandas as pd\n",
        "\n",
        "def loadData(file):\n",
        "    # Charger les données CSV en spécifiant les noms de colonnes\n",
        "    data = pd.read_csv(file, index_col=3,  \n",
        "                       names=['gender', 'genderLooking', 'age', 'name', \n",
        "                              'counts_details', 'counts_pictures', 'counts_profileVisits', 'counts_kisses', \n",
        "                              'counts_fans', 'counts_g', \n",
        "                              'flirtInterests_chat', 'flirtInterests_friends', 'flirtInterests_date', \n",
        "                              'country', 'city', 'location', 'distance', 'isFlirtstar', 'isHighlighted', \n",
        "                              'isInfluencer', 'isMobile', 'isNew', 'isOnline', 'isVip', 'lang_count', \n",
        "                              'lang_fr', 'lang_en', 'lang_de', 'lang_it', 'lang_es', 'lang_pt', 'verified', \n",
        "                              'shareProfileEnabled', 'lastOnlineDate', 'lastOnlineTime', 'birthd', 'crypt', \n",
        "                              'freetext', 'whazzup', 'userId', 'pictureId', 'isSystemProfile'])\n",
        "    \n",
        "    # Convertir les colonnes pertinentes en numériques, en traitant les erreurs avec NaN si nécessaire\n",
        "    data['counts_profileVisits'] = pd.to_numeric(data['counts_profileVisits'], errors='coerce')\n",
        "    data['counts_kisses'] = pd.to_numeric(data['counts_kisses'], errors='coerce')\n",
        "                \n",
        "    return data\n",
        "\n",
        "\n",
        "# Charger les données depuis le fichier CSV\n",
        "dataset = loadData(\"lovoo_v3_users_api-results.csv\")\n",
        "\n",
        "# Colonnes à supprimer du DataFrame\n",
        "colonnes_a_supprimer = ['age', 'gender', 'genderLooking', 'counts_details', 'counts_pictures', 'counts_fans', 'counts_g',\n",
        "                        'flirtInterests_chat', 'flirtInterests_friends', 'flirtInterests_date', \n",
        "                        'country', 'city', 'location', 'distance', 'isFlirtstar', 'isHighlighted',\n",
        "                        'isInfluencer', 'isMobile', 'isNew', 'isOnline', 'isVip', 'lang_count',\n",
        "                        'lang_fr', 'lang_en', 'lang_de', 'lang_it', 'lang_es', 'lang_pt', 'verified',\n",
        "                        'shareProfileEnabled', 'lastOnlineDate', 'lastOnlineTime', 'birthd', 'crypt',\n",
        "                        'freetext', 'whazzup', 'userId', 'isSystemProfile']\n",
        "\n",
        "# Supprimer les colonnes spécifiées du DataFrame\n",
        "dataset = dataset.drop(colonnes_a_supprimer, axis=1)\n",
        "\n",
        "# Identificar duplicados excluyendo blank y cero\n",
        "duplicates_to_drop = dataset[(dataset['pictureId'].notnull()) & (dataset['pictureId'] != '') & (dataset['pictureId'] != 0)]\n",
        "duplicates_to_drop = duplicates_to_drop[duplicates_to_drop.duplicated(subset='pictureId', keep=False)]\n",
        "\n",
        "# Eliminar las filas identificadas como duplicadas\n",
        "dataset = dataset.drop(duplicates_to_drop.index)\n",
        "\n",
        "# Calculer kisses_per_visit et arrondir à deux décimales, puis ajouter le symbole '%'\n",
        "dataset['taux_aime'] = (dataset['counts_kisses'] / dataset['counts_profileVisits'] * 100).round(2)\n",
        "\n",
        "# Discrétiser la colonne kisses par visite\n",
        "dataset['aime_5_pct'] = pd.cut(dataset['taux_aime'], bins=[-float('inf'), 5, float('inf')], labels=['moins_5_pct_aime', 'plus_5_pct_aime'], right=False)\n",
        "\n",
        "# Créer la nouvelle colonne 'visitas_mas_10' selon les conditions spécifiées\n",
        "dataset['10_visites'] = dataset.apply(lambda row: 'plus_10_visites' if row['counts_profileVisits'] >= 10 else 'moins_10_visites', axis=1)\n",
        "   \n",
        "# Créer la nouvelle colonne 'compte_populaire' basée sur les conditions spécifiées\n",
        "dataset['compte_populaire'] = dataset.apply(lambda row: 'populaire' if row['aime_5_pct'] == 'plus_5_pct_aime' and row['10_visites'] == 'plus_10_visites' else 'non_populaire', axis=1)\n",
        "    \n",
        "# Compter combien de fois \"populaire\" apparaît dans la colonne compte_populaire\n",
        "count_populaire = (dataset['compte_populaire'] == 'populaire').sum()\n",
        "\n",
        "# Normalizar la columna counts_profileVisits\n",
        "dataset['norm_visites'] = (dataset['counts_profileVisits'] / dataset['counts_profileVisits'].max()).round(3)\n",
        "\n",
        "# Normalizar la columna counts_profileVisits\n",
        "dataset['norm_kisses'] = (dataset['counts_kisses'] / dataset['counts_kisses'].max()).round(3)\n",
        "\n",
        "# Filtrar las filas donde counts_kisses sea menor o igual a counts_profileVisits\n",
        "dataset = dataset[dataset['counts_kisses'] <= dataset['counts_profileVisits']]\n",
        "\n",
        "# Afficher les premières lignes du DataFrame avec les nouvelles colonnes ajoutées\n",
        "print(dataset.iloc[:5])\n",
        "\n",
        "print(\"\\n\")\n",
        "\n",
        "# Afficher le nombre de fois où \"populaire\" apparaît dans la colonne compte_populaire\n",
        "print(f'Nombre de valeurs \"populaire\": {count_populaire}')\n",
        "\n",
        "# Compter combien de fois \"plus_10_visites\" apparaît dans la colonne 10_visites\n",
        "count_plus_10_visites = (dataset['10_visites'] == 'plus_10_visites').sum()\n",
        "\n",
        "print(f'Nombre de \"plus_10_visites\": {count_plus_10_visites}')\n",
        "\n",
        "# Compter combien de fois \"plus_5_pct_aime\" apparaît dans la colonne aime_5_pct\n",
        "count_plus_5_pct_aime = (dataset['aime_5_pct'] == 'plus_5_pct_aime').sum()\n",
        "\n",
        "print(f'Nombre de \"plus_5_pct_aime\": {count_plus_5_pct_aime}')\n",
        "\n",
        "\n"
      ]
    }
  ],
  "metadata": {
    "colab": {
      "collapsed_sections": [],
      "name": "lab2-corrigé.ipynb",
      "provenance": [],
      "toc_visible": true
    },
    "kernelspec": {
      "display_name": "Python 3",
      "name": "python3"
    },
    "language_info": {
      "codemirror_mode": {
        "name": "ipython",
        "version": 3
      },
      "file_extension": ".py",
      "mimetype": "text/x-python",
      "name": "python",
      "nbconvert_exporter": "python",
      "pygments_lexer": "ipython3",
      "version": "3.11.9"
    }
  },
  "nbformat": 4,
  "nbformat_minor": 0
}
